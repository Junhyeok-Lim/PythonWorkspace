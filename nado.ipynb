{
 "cells": [
  {
   "attachments": {},
   "cell_type": "markdown",
   "metadata": {},
   "source": [
    "## 사전(Dictionary) 문법\n",
    "- .items -> key, value 둘 다 출력"
   ]
  },
  {
   "cell_type": "code",
   "execution_count": 2,
   "metadata": {},
   "outputs": [
    {
     "name": "stdout",
     "output_type": "stream",
     "text": [
      "유재석\n",
      "김태호\n",
      "사용 가능\n",
      "dict_items([(3, '유재석'), (100, '김태호')])\n",
      "dict_keys([3, 100])\n",
      "dict_values(['유재석', '김태호'])\n"
     ]
    }
   ],
   "source": [
    "cabinet={3:\"유재석\", 100:\"김태호\"}\n",
    "print(cabinet[3])\n",
    "print(cabinet.get(100))\n",
    "print(cabinet.get(5, \"사용 가능\"))\n",
    "\n",
    "print(cabinet.items())\n",
    "print(cabinet.keys())\n",
    "print(cabinet.values())"
   ]
  },
  {
   "attachments": {},
   "cell_type": "markdown",
   "metadata": {},
   "source": [
    "## 파일 입출력\n",
    "- w : 쓰기\n",
    "- a : 쓰기_추가 (append)\n",
    "- r : 읽기\n",
    "\n",
    "\n",
    "- encoding='utf8' 필수\n",
    "- open() 했으면 항상 close()\n"
   ]
  },
  {
   "cell_type": "code",
   "execution_count": 3,
   "metadata": {},
   "outputs": [],
   "source": [
    "# score.txt 파일에 값 입력(w)\n",
    "score_file=open('score.txt','w',encoding='utf8')\n",
    "print('수학 : 0', file=score_file)\n",
    "print('영어 : 50', file=score_file)\n",
    "print('과학 : 80', file=score_file)\n",
    "print('음악 : 60', file=score_file)\n",
    "score_file.close()"
   ]
  },
  {
   "cell_type": "code",
   "execution_count": 4,
   "metadata": {},
   "outputs": [
    {
     "name": "stdout",
     "output_type": "stream",
     "text": [
      "수학 : 0\n",
      "영어 : 50\n",
      "과학 : 80\n",
      "음악 : 60\n",
      "\n"
     ]
    }
   ],
   "source": [
    "# 위에서 쓴 값 읽어오기\n",
    "score_file=open('score.txt','r',encoding='utf8')\n",
    "print(score_file.read())\n",
    "score_file.close()"
   ]
  },
  {
   "cell_type": "code",
   "execution_count": null,
   "metadata": {},
   "outputs": [],
   "source": [
    "# readline -> 한줄만 읽어오고 커서를 다음 줄로 이동\n",
    "\n",
    "score_file=open('score.txt','w',encoding='utf8')\n",
    "print(score_file.readline()) \n",
    "print(score_file.readline())\n",
    "print(score_file.readline())\n",
    "print(score_file.readline())\n",
    "score_file.close()"
   ]
  },
  {
   "attachments": {},
   "cell_type": "markdown",
   "metadata": {},
   "source": [
    "### with를 이용해 파일 입출력 간소화하기"
   ]
  },
  {
   "cell_type": "code",
   "execution_count": 6,
   "metadata": {},
   "outputs": [],
   "source": [
    "# 쓰기\n",
    "with open('study.txt','w',encoding='utf8') as study_file:\n",
    "    study_file.write('python study')"
   ]
  },
  {
   "cell_type": "code",
   "execution_count": 5,
   "metadata": {},
   "outputs": [
    {
     "name": "stdout",
     "output_type": "stream",
     "text": [
      "python study\n"
     ]
    }
   ],
   "source": [
    "# 읽기\n",
    "with open('study.txt','r',encoding='utf8') as study_file:\n",
    "    print(study_file.read())"
   ]
  },
  {
   "cell_type": "code",
   "execution_count": 1,
   "metadata": {},
   "outputs": [
    {
     "ename": "NameError",
     "evalue": "name 'Flyable' is not defined",
     "output_type": "error",
     "traceback": [
      "\u001b[1;31m---------------------------------------------------------------------------\u001b[0m",
      "\u001b[1;31mNameError\u001b[0m                                 Traceback (most recent call last)",
      "Cell \u001b[1;32mIn[1], line 1\u001b[0m\n\u001b[1;32m----> 1\u001b[0m \u001b[39mclass\u001b[39;00m \u001b[39mFlyableUnit\u001b[39;00m(Flyable, Unit): \u001b[39m## super로 다중상속시 앞에있는 클래스만 호출\u001b[39;00m\n\u001b[0;32m      2\u001b[0m     \u001b[39mdef\u001b[39;00m \u001b[39m__init__\u001b[39m(\u001b[39mself\u001b[39m):\n\u001b[0;32m      3\u001b[0m         \u001b[39msuper\u001b[39m()\u001b[39m.\u001b[39m\u001b[39m__init__\u001b[39m()\n",
      "\u001b[1;31mNameError\u001b[0m: name 'Flyable' is not defined"
     ]
    }
   ],
   "source": [
    "class FlyableUnit(Flyable, Unit): ## super로 다중상속시 앞에있는 클래스만 호출\n",
    "    def __init__(self):\n",
    "        super().__init__()\n",
    "\n",
    "dropship=FlyableUnit()"
   ]
  },
  {
   "attachments": {},
   "cell_type": "markdown",
   "metadata": {},
   "source": [
    "# 예외 처리\n",
    "* 의도적으로 예외 처리 할 시 raise로 except로 보냄\n",
    "* ValueError, ZeroDivisionError 등 python에서 자체 제공하는 에러 외에 사용자가 에러를 정의할 수 도 있음.\n",
    "* finally : 오류 발생과 상관없이 무조건 실행됨"
   ]
  },
  {
   "cell_type": "code",
   "execution_count": null,
   "metadata": {},
   "outputs": [],
   "source": [
    "# 예외 처리\n",
    "try:\n",
    "    print('나누기 전용 계산기입니다.')\n",
    "    # num1=int(input('첫 번째 숫자 입력 : '))\n",
    "    # num2=int(input('두 번째 숫자 입력 : '))\n",
    "    nums=[]\n",
    "    nums.append(int(input('첫 번째 숫자를 입력 : ')))\n",
    "    nums.append(int(input('두 번째 숫자를 입력 : ')))\n",
    "    nums.append(int(nums[0]/nums[1]))\n",
    "    print(\"{} / {} = {}\".format(nums[0], nums[1], nums[2]))\n",
    "    # print('{} / {} = {}'.format(num1, num2, int(num1/num2)))\n",
    "except ValueError:\n",
    "    print('에러! 잘못된 값 입력.')\n",
    "except ZeroDivisionError as err:\n",
    "    print(err)\n",
    "except Exception as err:\n",
    "    print('알 수 없는 오류 발생.')"
   ]
  },
  {
   "cell_type": "code",
   "execution_count": 2,
   "metadata": {},
   "outputs": [
    {
     "name": "stdout",
     "output_type": "stream",
     "text": [
      "한 자리 숫자 나누기 전용 계산기\n",
      "잘못된 값 입력. 한자리 숫자만 입력하세요.\n"
     ]
    }
   ],
   "source": [
    "try:\n",
    "    print('한 자리 숫자 나누기 전용 계산기')\n",
    "    num1=int(input('첫 번째 숫자를 입력 : '))\n",
    "    num2=int(input('두 번째 숫자를 입력 : '))\n",
    "    if num1>=10 or num2>=10:\n",
    "        raise ValueError\n",
    "    print('{} / {} = {}'.format(num1, num2, int(num1/num2)))\n",
    "except ValueError:\n",
    "    print('잘못된 값 입력. 한자리 숫자만 입력하세요.')"
   ]
  },
  {
   "cell_type": "code",
   "execution_count": null,
   "metadata": {},
   "outputs": [],
   "source": [
    "class BigNumberError(Exception):\n",
    "    def __init__(self, msg):\n",
    "        self.msg=msg\n",
    "\n",
    "    def __str__(self):\n",
    "        return self.msg\n",
    "\n",
    "try:\n",
    "    print('한 자리 숫자 나누기 전용 계산기')\n",
    "    num1=int(input('첫 번째 숫자를 입력 : '))\n",
    "    num2=int(input('두 번째 숫자를 입력 : '))\n",
    "    if num1>=10 or num2>=10:\n",
    "        raise BigNumberError('입력값 : {}, {}'.format(num1, num2))\n",
    "    print('{} / {} = {}'.format(num1, num2, int(num1/num2)))\n",
    "except ValueError:\n",
    "    print('잘못된 값 입력. 한자리 숫자만 입력하세요.')\n",
    "except BigNumberError as err:\n",
    "    print('에러 발생. 한 자리 숫자만 입력하세요.')\n",
    "    print(err)"
   ]
  },
  {
   "attachments": {},
   "cell_type": "markdown",
   "metadata": {},
   "source": [
    "# 모듈 사용\n",
    "* theater_module.py 파일(임의의 name) 생성\n",
    "    * 함수 등을 작성 (ex. price 함수)\n",
    "* main_code에 theater_module.price(5)를 입력 해 모듈 함수 호출"
   ]
  },
  {
   "cell_type": "code",
   "execution_count": null,
   "metadata": {},
   "outputs": [],
   "source": [
    "##일반 가격\n",
    "def price(people):\n",
    "    print('{}명 가격은 {}원입니다.'.format(people, people*10000))\n",
    "\n",
    "def price_morning(people):\n",
    "    print('{}명의 조조할인 가격은 {}원입니다.'.format(people, people*6000))\n",
    "\n",
    "def price_soldier(people):\n",
    "    print('{}명 군인 할인 가격은 {}원입니다.'.format(people, people*4000))\n",
    "\n",
    "\n"
   ]
  },
  {
   "cell_type": "code",
   "execution_count": 1,
   "metadata": {},
   "outputs": [
    {
     "name": "stdout",
     "output_type": "stream",
     "text": [
      "3명 가격은 30000원입니다.\n",
      "4명의 조조할인 가격은 24000원입니다.\n",
      "5명 군인 할인 가격은 20000원입니다.\n"
     ]
    }
   ],
   "source": [
    "import theater_module\n",
    "theater_module.price(3) ##3명이서 영화 보러 갔을 때 가격\n",
    "theater_module.price_morning(4)\n",
    "theater_module.price_soldier(5)"
   ]
  },
  {
   "cell_type": "code",
   "execution_count": null,
   "metadata": {},
   "outputs": [],
   "source": [
    "import theater_module as mv ## 별명 붙이기\n",
    "mv.price(3)\n",
    "mv.price_morning(4)\n",
    "mv.price_soldier(5)"
   ]
  },
  {
   "attachments": {},
   "cell_type": "markdown",
   "metadata": {},
   "source": [
    "# x for x in 예제"
   ]
  },
  {
   "cell_type": "code",
   "execution_count": 2,
   "metadata": {},
   "outputs": [
    {
     "name": "stdout",
     "output_type": "stream",
     "text": [
      "[2.0, -3.5, 4.5, 0.5, -0.5, 4.0, -3.0]\n",
      "[2.0, 4.5, 0.5, 4.0]\n"
     ]
    }
   ],
   "source": [
    "nums = [4,-7,9,1,-1,8,-6]\n",
    "half_of_nums=[x/2 for x in nums]\n",
    "half_of_positive_nums=[x/2 for x in nums if x>=0]\n",
    "\n",
    "print(half_of_nums)\n",
    "print(half_of_positive_nums)"
   ]
  },
  {
   "attachments": {},
   "cell_type": "markdown",
   "metadata": {},
   "source": [
    "# Constructor"
   ]
  },
  {
   "cell_type": "code",
   "execution_count": null,
   "metadata": {},
   "outputs": [],
   "source": [
    "class GeekforGeeks:\n",
    " \n",
    "    # default constructor\n",
    "    def __init__(self):\n",
    "        self.geek = \"GeekforGeeks\"\n",
    " \n",
    "    # a method for printing data members\n",
    "    def print_Geek(self):\n",
    "        print(self.geek)\n",
    " \n",
    " \n",
    "# creating object of the class\n",
    "obj = GeekforGeeks()\n",
    " \n",
    "# calling the instance method using the object obj\n",
    "obj.print_Geek()"
   ]
  },
  {
   "attachments": {},
   "cell_type": "markdown",
   "metadata": {},
   "source": [
    "# Override\n",
    " : 같은 이름을 가진 메소드를 덮어 쓴다."
   ]
  },
  {
   "cell_type": "code",
   "execution_count": 1,
   "metadata": {},
   "outputs": [
    {
     "name": "stdout",
     "output_type": "stream",
     "text": [
      "Handsome\n",
      "Pretty\n"
     ]
    }
   ],
   "source": [
    "\n",
    "class father(): # parent class\n",
    "    def handsome(self):\n",
    "        print(\"Handsome\")\n",
    "\n",
    "class brother(father): #자식클래스(부모클래스) 아빠메소드를 상속받겠다\n",
    "    '''아들'''\n",
    "\n",
    "class sister(father):\n",
    "    def pretty(self):\n",
    "        print(\"Pretty\")\n",
    "    def handsome(self):\n",
    "        self.pretty()\n",
    "\n",
    "brother = brother()\n",
    "brother.handsome()\n",
    "\n",
    "sister = sister()\n",
    "sister.handsome()"
   ]
  },
  {
   "attachments": {},
   "cell_type": "markdown",
   "metadata": {},
   "source": [
    "# Super 예제"
   ]
  },
  {
   "cell_type": "code",
   "execution_count": null,
   "metadata": {},
   "outputs": [],
   "source": [
    "class Father():\n",
    "    def handsome(self):\n",
    "        print(\"잘생겼다\")\n",
    "\n",
    "class Brother(Father):\n",
    "    '''아들'''\n",
    "\n",
    "class Sister(Father):\n",
    "    def pretty(self):\n",
    "        print(\"예쁘다\")\n",
    "\n",
    "    def handsome(self):\n",
    "        return super().handsome() # super를 제거 할 시 girl의 handsome 출력 X\n",
    "\n",
    "brother = Brother()\n",
    "brother.handsome()\n",
    "\n",
    "girl = Sister()\n",
    "girl.handsome()\n",
    "girl.pretty()"
   ]
  },
  {
   "cell_type": "code",
   "execution_count": 1,
   "metadata": {},
   "outputs": [
    {
     "name": "stdout",
     "output_type": "stream",
     "text": [
      "아빠를 닮아 잘생겼다.\n",
      "얼굴 말이야\n"
     ]
    }
   ],
   "source": [
    "class Father():\n",
    "    def __init__(self, who):\n",
    "        self.who=who\n",
    "\n",
    "    def handsome(self):\n",
    "        print(\"{}를 닮아 잘생겼다.\".format(self.who))\n",
    "\n",
    "class Sister(Father):\n",
    "    def __init__(self, who, where):\n",
    "        super().__init__(who)\n",
    "        self.where=where\n",
    "\n",
    "    def choice(self):\n",
    "        print(\"{} 말이야\".format(self.where))\n",
    "\n",
    "    def handsome(self):\n",
    "        super().handsome()\n",
    "        self.choice()\n",
    "\n",
    "girl = Sister('아빠', '얼굴')\n",
    "girl.handsome()"
   ]
  },
  {
   "attachments": {},
   "cell_type": "markdown",
   "metadata": {},
   "source": [
    "# 람다함수 활용\n",
    " 1. 짝수인가\n",
    " 2. 0~10 까지 수 중 짝수만 필터링"
   ]
  },
  {
   "cell_type": "code",
   "execution_count": 1,
   "metadata": {},
   "outputs": [
    {
     "name": "stdout",
     "output_type": "stream",
     "text": [
      "False\n",
      "True\n"
     ]
    }
   ],
   "source": [
    "def is_even(x):\n",
    "    return x%2==0\n",
    "\n",
    "is_even=lambda x : x%2 == 0\n",
    "\n",
    "print(is_even(1))\n",
    "print(is_even(2))\n",
    "\n",
    "# 두 함수는 동일한 출력"
   ]
  },
  {
   "cell_type": "code",
   "execution_count": 2,
   "metadata": {},
   "outputs": [
    {
     "name": "stdout",
     "output_type": "stream",
     "text": [
      "일반 함수 버전\n",
      "[0, 2, 4, 6, 8]\n",
      "람다 함수 버전\n",
      "[0, 2, 4, 6, 8]\n"
     ]
    }
   ],
   "source": [
    "print(\"일반 함수 버전\")\n",
    "def is_even(x):\n",
    "    return x%2==0\n",
    "\n",
    "result1 = list(filter(is_even, range(10)))\n",
    "print(result1)\n",
    "\n",
    "print(\"람다 함수 버전\")\n",
    "\n",
    "result2 = list(filter((lambda x : x%2 == 0), range(10)))\n",
    "print(result2)"
   ]
  }
 ],
 "metadata": {
  "kernelspec": {
   "display_name": "Python 3",
   "language": "python",
   "name": "python3"
  },
  "language_info": {
   "codemirror_mode": {
    "name": "ipython",
    "version": 3
   },
   "file_extension": ".py",
   "mimetype": "text/x-python",
   "name": "python",
   "nbconvert_exporter": "python",
   "pygments_lexer": "ipython3",
   "version": "3.8.10"
  },
  "orig_nbformat": 4,
  "vscode": {
   "interpreter": {
    "hash": "9ed3f88d6f6ec8a227675793acafdb079aee78e1a894b4cdd5cf4ad29bd1582c"
   }
  }
 },
 "nbformat": 4,
 "nbformat_minor": 2
}
