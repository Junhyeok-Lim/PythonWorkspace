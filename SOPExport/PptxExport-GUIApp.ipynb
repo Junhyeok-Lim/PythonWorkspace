{
 "cells": [
  {
   "attachments": {},
   "cell_type": "markdown",
   "metadata": {},
   "source": [
    "# 간단한 GUI App을 만들어보자"
   ]
  },
  {
   "cell_type": "code",
   "execution_count": null,
   "metadata": {},
   "outputs": [],
   "source": [
    "from pptx import Presentation\n",
    "import pandas as pd\n",
    "import tkinter.ttk as ttk\n",
    "import tkinter.messagebox as msgbox\n",
    "from tkinter import * # __all__\n",
    "from tkinter import filedialog\n",
    "\n",
    "MAX_ITEM_NO = 12"
   ]
  },
  {
   "attachments": {},
   "cell_type": "markdown",
   "metadata": {},
   "source": [
    "# 간단한 GUI Layout"
   ]
  },
  {
   "cell_type": "code",
   "execution_count": null,
   "metadata": {},
   "outputs": [],
   "source": [
    "root = Tk()\n",
    "root.title(\"PPTX SOP Converter\")\n",
    "root.geometry(\"200x120\")\n",
    "\n",
    "# Frame \n",
    "frame = Frame(root)\n",
    "frame.pack(fill=\"x\", padx=5, pady=5) # 간격 띄우기\n",
    "\n",
    "btn_open_file = Button(frame, padx=5, pady=5, text=\"Open File\", command=open_file)\n",
    "btn_open_file.pack(fill=\"x\",side=\"top\",padx=5, pady=5)\n",
    "\n",
    "btn_start = Button(frame, padx=5, pady=5, text=\"Convert\", command=convert)\n",
    "btn_start.pack(fill=\"x\",side=\"top\", padx=5, pady=5)\n",
    "\n",
    "# Runs\n",
    "root.mainloop()"
   ]
  },
  {
   "attachments": {},
   "cell_type": "markdown",
   "metadata": {},
   "source": [
    "# GUI Event Functions"
   ]
  },
  {
   "cell_type": "code",
   "execution_count": null,
   "metadata": {},
   "outputs": [],
   "source": [
    "sopfile = ''\n",
    "def open_file():\n",
    "    global sopfile\n",
    "    try:\n",
    "        # sopfile = filedialog.askopenfilename(initialdir=r'C:\\Users\\ParkGY\\DocumentsCFLTYanadoo\\DT Academy\\SOPMeterial',title=\"select a file\",\n",
    "        #                                     filetypes =((\"Perenstaion\",\"*.pptx\"),\n",
    "        #                                     (\"all files\",\"*.*\")))\n",
    "        sopfile = filedialog.askopenfilename(initialdir=r'C:\\Users\\ParkGY\\DocumentsCFLTYanadoo\\DT Academy\\SOPMeterial',title=\"select a file\",\n",
    "                                            filetypes =((\"Perenstaion\",\"*.pptx\"),\n",
    "                                            (\"all files\",\"*.*\")))\n",
    "    except:\n",
    "        pass\n",
    "    \n",
    "\n",
    "def convert():\n",
    "    prs = Presentation(sopfile)\n",
    "    df = pd.DataFrame(columns=['OperationStep','Ref' ,'Man.Item.No','Ser.Item.No' ,'Description','Qty','Instruction'])\n",
    "    \n",
    "    for slide in prs.slides:\n",
    "        items = GetItemsInSlide(slide) \n",
    "        if items : # items list 에 데이터가 있으면 추가 \n",
    "            op_num = get_opnum(slide.shapes)\n",
    "            for item in items:\n",
    "                item_dict = {'OperationStep': op_num,'Ref': item[1] ,'Man.Item.No': item[2],'Ser.Item.No': item[3] ,'Description': item[4], 'Qty': item[5], 'Instruction' : item[6]}\n",
    "                df.loc[len(df)] = item_dict\n",
    "                \n",
    "    f_name = sopfile.split('.')[0] + '.csv' \n",
    "    df.to_csv(f_name,encoding='utf-8-sig', index=False, mode='w', header=True)"
   ]
  },
  {
   "attachments": {},
   "cell_type": "markdown",
   "metadata": {},
   "source": [
    "# Functions"
   ]
  },
  {
   "cell_type": "code",
   "execution_count": null,
   "metadata": {},
   "outputs": [],
   "source": [
    "FIRST_ROW = 2\n",
    "INSTRUCTION_ROW = 10\n",
    "\n",
    "LEFT_REF_COL = 0\n",
    "LEFT_ITEM_COL = 2 \n",
    "LEFT_SER_COL = 4\n",
    "LEFT_DES_COL = 5\n",
    "LEFT_QTY_COL = 7\n",
    "RIGHT_REF_COL = 8\n",
    "RIGHT_ITEM_COL = 9\n",
    "RIGHT_SER_COL = 11 \n",
    "RIGHT_DES_COL = 12\n",
    "RIGHT_QTY_COL = 14\n",
    "\n",
    "    \n",
    "\n",
    "def getTextInRowCol(table, row, col) : \n",
    "    text = ''\n",
    "    for paragraph in table.cell(row,col).text_frame.paragraphs:\n",
    "        for run in paragraph.runs:\n",
    "            text += run.text \n",
    "    return text\n",
    "\n",
    "def GetItemInTable(table, idx):        \n",
    "    \n",
    "    right_first_item_no = int(MAX_ITEM_NO / 2)\n",
    "    \n",
    "    try:\n",
    "        if idx < right_first_item_no :\n",
    "            \n",
    "            op_num = ''\n",
    "            ref = getTextInRowCol(table, FIRST_ROW + idx, LEFT_REF_COL)\n",
    "            item_no = getTextInRowCol(table, FIRST_ROW + idx, LEFT_ITEM_COL)\n",
    "            ser = getTextInRowCol(table, FIRST_ROW + idx, LEFT_SER_COL)\n",
    "            des = getTextInRowCol(table, FIRST_ROW + idx, LEFT_DES_COL )\n",
    "            qty = getTextInRowCol(table, FIRST_ROW + idx, LEFT_QTY_COL)\n",
    "            inst = getTextInRowCol(table,INSTRUCTION_ROW,0 )\n",
    "        else:\n",
    "            \n",
    "            op_num = ''\n",
    "            ref = getTextInRowCol(table, FIRST_ROW + idx - right_first_item_no, RIGHT_REF_COL)\n",
    "            item_no = getTextInRowCol(table, FIRST_ROW + idx - right_first_item_no, RIGHT_ITEM_COL)\n",
    "            ser = getTextInRowCol(table, FIRST_ROW + idx - right_first_item_no, RIGHT_SER_COL)\n",
    "            des = getTextInRowCol(table, FIRST_ROW  + idx - right_first_item_no, RIGHT_DES_COL)\n",
    "            qty = getTextInRowCol(table, FIRST_ROW + idx - right_first_item_no, RIGHT_QTY_COL)\n",
    "                \n",
    "        item_list = [op_num, ref, item_no, ser, des, qty, inst]         \n",
    "        return item_list\n",
    "    except:\n",
    "        pass\n",
    "    \n",
    "\n",
    "\n",
    "def GetItemsInSlide(slide):\n",
    "    items = []\n",
    "    \n",
    "    if slide.shapes[0].has_table:\n",
    "        table = slide.shapes[0].table\n",
    "        for idx in range(0, MAX_ITEM_NO):\n",
    "            try:\n",
    "                item = GetItemInTable(table, idx)\n",
    "                if item[5].isnumeric() and item[2]: # Description에 데이터가 있고 qty가 숫자이면 데이터 인정 \n",
    "                    items.append(item)\n",
    "                    \n",
    "            except:\n",
    "                pass\n",
    "        return items\n",
    "                \n",
    "\n",
    "def get_opnum(shapes):\n",
    "    op_text = ''\n",
    "    for i, shape in enumerate(shapes):\n",
    "        if shape.has_text_frame:\n",
    "            text_in_shape = shape.text[:2]\n",
    "            if text_in_shape == \"OP\":\n",
    "                op_text = shape.text\n",
    "    if  op_text == '':\n",
    "        print(\"coulnd't find OP shape\")  \n",
    "    return op_text\n"
   ]
  }
 ],
 "metadata": {
  "kernelspec": {
   "display_name": "Python 3",
   "language": "python",
   "name": "python3"
  },
  "language_info": {
   "name": "python",
   "version": "3.8.10"
  },
  "orig_nbformat": 4
 },
 "nbformat": 4,
 "nbformat_minor": 2
}
